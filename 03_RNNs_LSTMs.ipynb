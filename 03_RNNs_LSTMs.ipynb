{
 "cells": [
  {
   "cell_type": "markdown",
   "metadata": {
    "slideshow": {
     "slide_type": "slide"
    }
   },
   "source": [
    "<h2><center><font color='black'>   Taking a Deep-Learning Dive with Keras </font></center></h2>\n",
    "\n",
    "<img src='imgs/Deep_Dive_Keras_3.jpg'/>"
   ]
  },
  {
   "cell_type": "markdown",
   "metadata": {
    "slideshow": {
     "slide_type": "slide"
    }
   },
   "source": [
    "## Recurrent Neural Nets\n"
   ]
  },
  {
   "cell_type": "markdown",
   "metadata": {
    "slideshow": {
     "slide_type": "slide"
    }
   },
   "source": [
    "###  Snippet of a fully connected model\n",
    "<img src='imgs/full_connect.png'/>\n",
    "\n",
    "### Snippet of RNN\n",
    "<img src='imgs/rnn3.jpg'/>\n",
    "\n",
    "#### Our recurrence formula:\n",
    "$$s_t=f_W(s_{t-1},x_t)$$\n",
    "\n",
    "(where ht: new state, f~function with parameters W, ht-1: previous, \n",
    "h_t=tanh(Whh(ht-1) + Wxh(xt))\n",
    "yt=Why(h_t)"
   ]
  },
  {
   "cell_type": "markdown",
   "metadata": {},
   "source": [
    "#### Pseudo-code example:  RNN for text 'generation' "
   ]
  },
  {
   "cell_type": "code",
   "execution_count": null,
   "metadata": {
    "collapsed": true
   },
   "outputs": [],
   "source": [
    "\n",
    "Vocab_size =1000 \n",
    "hidden_layer=100\n",
    "\n",
    "# U ~ 100x 1000\n",
    "# V ~ 1000 x 100\n",
    "# W ~ 100 x 100 \n",
    "\n",
    "time_steps = 10   #  where time_steps are # of words in sample\n",
    "\n",
    "# define our state matrix:\n",
    "# s = 10 X 100\n",
    "\n",
    "# output\n",
    "# o = 1 x 1000\n",
    "\n",
    "for t in time_steps:\n",
    "    #  U[x[t]   ~ essentially a look-up for U\n",
    "    s[t]=np.tanh(U[x[t]] + np.dot(W,s[t-1]) \n",
    "    o[t] = softmax(V.dot(s[t]))\n",
    "                 \n",
    "## during backprop, we continue to update each matrix: U,V,W"
   ]
  },
  {
   "cell_type": "markdown",
   "metadata": {},
   "source": [
    "### RNN: Process Sequences\n",
    "\n",
    "<img src='imgs/rnn_one.png'/>"
   ]
  },
  {
   "cell_type": "markdown",
   "metadata": {},
   "source": [
    "## RNN Example: Text Classification\n",
    "- Let's try an RNN for the same Reuters classification task:"
   ]
  },
  {
   "cell_type": "code",
   "execution_count": 2,
   "metadata": {},
   "outputs": [
    {
     "name": "stderr",
     "output_type": "stream",
     "text": [
      "Using Theano backend.\n"
     ]
    }
   ],
   "source": [
    "import numpy as np\n",
    "np.random.seed(13)\n",
    "from keras.models import Sequential\n",
    "from keras.layers import Dense, Embedding, Reshape, Activation, SimpleRNN, GRU, LSTM, Convolution1D, MaxPooling1D, Merge, Dropout\n",
    "from keras.optimizers import SGD, RMSprop, Adam\n",
    "from keras.utils.np_utils import to_categorical\n",
    "from IPython.display import SVG\n",
    "\n",
    "from keras.datasets import imdb, reuters\n",
    "from keras.preprocessing import sequence\n",
    "from keras.utils.vis_utils import model_to_dot, plot_model\n",
    "\n",
    "import keras"
   ]
  },
  {
   "cell_type": "markdown",
   "metadata": {},
   "source": [
    "#### Ex 1: Reuters newswire data via ANN\n",
    "- reuter newswire ~ loads the Reuters newswire classification dataset\n",
    "- 46 classes"
   ]
  },
  {
   "cell_type": "code",
   "execution_count": 2,
   "metadata": {
    "collapsed": true
   },
   "outputs": [],
   "source": [
    "max_features = 2000\n",
    "(X_train, y_train), (X_test, y_test) = reuters.load_data(\n",
    "    num_words=max_features)\n",
    "maxlen = 10\n",
    "X_train = sequence.pad_sequences(X_train, maxlen=maxlen)\n",
    "X_test = sequence.pad_sequences(X_test, maxlen=maxlen)\n",
    "nb_epoch = 20"
   ]
  },
  {
   "cell_type": "code",
   "execution_count": 28,
   "metadata": {},
   "outputs": [
    {
     "name": "stdout",
     "output_type": "stream",
     "text": [
      "[324  27  56   2   2   5 192 510  17  12]\n",
      "3\n"
     ]
    },
    {
     "data": {
      "text/plain": [
       "array([ 0,  1,  2,  3,  4,  5,  6,  7,  8,  9, 10, 11, 12, 13, 14, 15, 16,\n",
       "       17, 18, 19, 20, 21, 22, 23, 24, 25, 26, 27, 28, 29, 30, 31, 32, 33,\n",
       "       34, 35, 36, 37, 38, 39, 40, 41, 42, 43, 44, 45])"
      ]
     },
     "execution_count": 28,
     "metadata": {},
     "output_type": "execute_result"
    }
   ],
   "source": [
    "# let's see how our data is returned\n",
    "print(X_test[0])\n",
    "print(y_test[0])\n",
    "np.unique(y_test)"
   ]
  },
  {
   "cell_type": "code",
   "execution_count": 33,
   "metadata": {},
   "outputs": [
    {
     "name": "stdout",
     "output_type": "stream",
     "text": [
      "Train on 8982 samples, validate on 2246 samples\n",
      "Epoch 1/20\n",
      "8982/8982 [==============================] - 0s - loss: 3.1011 - acc: 0.2611 - val_loss: 2.7102 - val_acc: 0.2110\n",
      "Epoch 2/20\n",
      "8982/8982 [==============================] - 0s - loss: 3.3135 - acc: 0.2477 - val_loss: 3.1247 - val_acc: 0.0441\n",
      "Epoch 3/20\n",
      "8982/8982 [==============================] - 0s - loss: 3.3714 - acc: 0.2534 - val_loss: 2.8647 - val_acc: 0.1638\n",
      "Epoch 4/20\n",
      "8982/8982 [==============================] - 0s - loss: 3.3333 - acc: 0.2554 - val_loss: 2.9718 - val_acc: 0.2110\n",
      "Epoch 5/20\n",
      "8982/8982 [==============================] - 0s - loss: 3.3508 - acc: 0.2532 - val_loss: 2.9016 - val_acc: 0.3620\n",
      "Epoch 6/20\n",
      "8982/8982 [==============================] - 0s - loss: 3.3698 - acc: 0.2462 - val_loss: 2.7145 - val_acc: 0.3620\n",
      "Epoch 7/20\n",
      "8982/8982 [==============================] - 0s - loss: 3.3725 - acc: 0.2532 - val_loss: 2.6893 - val_acc: 0.2159\n",
      "Epoch 8/20\n",
      "8982/8982 [==============================] - 0s - loss: 3.3689 - acc: 0.2509 - val_loss: 2.8402 - val_acc: 0.1371\n",
      "Epoch 9/20\n",
      "8982/8982 [==============================] - 0s - loss: 3.3798 - acc: 0.2477 - val_loss: 2.8309 - val_acc: 0.3620\n",
      "Epoch 10/20\n",
      "8982/8982 [==============================] - 0s - loss: 3.3467 - acc: 0.2531 - val_loss: 2.5593 - val_acc: 0.3620\n",
      "Epoch 11/20\n",
      "8982/8982 [==============================] - 0s - loss: 3.3882 - acc: 0.2462 - val_loss: 3.8529 - val_acc: 0.3620\n",
      "Epoch 12/20\n",
      "8982/8982 [==============================] - 0s - loss: 3.3766 - acc: 0.2505 - val_loss: 2.6264 - val_acc: 0.3620\n",
      "Epoch 13/20\n",
      "8982/8982 [==============================] - 0s - loss: 3.4111 - acc: 0.2460 - val_loss: 3.2943 - val_acc: 0.3620\n",
      "Epoch 14/20\n",
      "8982/8982 [==============================] - 0s - loss: 3.3530 - acc: 0.2501 - val_loss: 3.0298 - val_acc: 0.0699\n",
      "Epoch 15/20\n",
      "8982/8982 [==============================] - 0s - loss: 3.4072 - acc: 0.2478 - val_loss: 2.9755 - val_acc: 0.3620\n",
      "Epoch 16/20\n",
      "8982/8982 [==============================] - 0s - loss: 3.3611 - acc: 0.2463 - val_loss: 2.8332 - val_acc: 0.2110\n",
      "Epoch 17/20\n",
      "8982/8982 [==============================] - 0s - loss: 3.4334 - acc: 0.2503 - val_loss: 3.2183 - val_acc: 0.3620\n",
      "Epoch 18/20\n",
      "8982/8982 [==============================] - 0s - loss: 3.4556 - acc: 0.2470 - val_loss: 2.6861 - val_acc: 0.3620\n",
      "Epoch 19/20\n",
      "8982/8982 [==============================] - 0s - loss: 3.3998 - acc: 0.2501 - val_loss: 3.5082 - val_acc: 0.2110\n",
      "Epoch 20/20\n",
      "8982/8982 [==============================] - 0s - loss: 3.3903 - acc: 0.2481 - val_loss: 2.6794 - val_acc: 0.3620\n"
     ]
    },
    {
     "data": {
      "text/plain": [
       "<keras.callbacks.History at 0x117818e80>"
      ]
     },
     "execution_count": 33,
     "metadata": {},
     "output_type": "execute_result"
    }
   ],
   "source": [
    "# Develop ANN Model\n",
    "\n",
    "model = Sequential()\n",
    "\n",
    "model.add(Dense(64, input_dim=10, kernel_initializer='uniform'))\n",
    "model.add(Activation('tanh'))\n",
    "model.add(Dropout(0.5))\n",
    "model.add(Dense(64, kernel_initializer='uniform'))\n",
    "model.add(Activation('tanh'))\n",
    "model.add(Dropout(0.5))\n",
    "model.add(Dense(46, kernel_initializer='uniform'))\n",
    "model.add(Activation('softmax'))\n",
    "\n",
    "# Momentum: gradient descent moves faster if gradient keeps pointing in the same direction\n",
    "sgd = SGD(lr=0.1, decay=1e-6, momentum=0.9, nesterov=True)\n",
    "\n",
    "model.compile(loss='sparse_categorical_crossentropy',\n",
    "              optimizer=sgd,\n",
    "              metrics=['accuracy'])\n",
    "\n",
    "cb=keras.callbacks.RemoteMonitor(root='http://localhost:9000')\n",
    "model.fit(X_train, y_train,\n",
    "          epochs=20, callbacks=[cb],\n",
    "          batch_size=32,validation_data=[X_test, y_test])\n"
   ]
  },
  {
   "cell_type": "markdown",
   "metadata": {},
   "source": [
    "#### Review score & loss results.  Thoughts ? "
   ]
  },
  {
   "cell_type": "markdown",
   "metadata": {},
   "source": [
    "#### Ex 2: Reuters newswire data via RNN"
   ]
  },
  {
   "cell_type": "code",
   "execution_count": 20,
   "metadata": {},
   "outputs": [
    {
     "data": {
      "image/svg+xml": [
       "<svg height=\"377pt\" viewBox=\"0.00 0.00 337.93 377.00\" width=\"338pt\" xmlns=\"http://www.w3.org/2000/svg\" xmlns:xlink=\"http://www.w3.org/1999/xlink\">\n",
       "<g class=\"graph\" id=\"graph0\" transform=\"scale(1 1) rotate(0) translate(4 373)\">\n",
       "<title>G</title>\n",
       "<polygon fill=\"#ffffff\" points=\"-4,4 -4,-373 333.9277,-373 333.9277,4 -4,4\" stroke=\"transparent\"/>\n",
       "<!-- 4788811256 -->\n",
       "<g class=\"node\" id=\"node1\">\n",
       "<title>4788811256</title>\n",
       "<polygon fill=\"none\" points=\".0205,-324.5 .0205,-368.5 329.9072,-368.5 329.9072,-324.5 .0205,-324.5\" stroke=\"#000000\"/>\n",
       "<text fill=\"#000000\" font-family=\"Times,serif\" font-size=\"14.00\" text-anchor=\"middle\" x=\"98.8052\" y=\"-342.3\">embedding_4_input: InputLayer</text>\n",
       "<polyline fill=\"none\" points=\"197.5898,-324.5 197.5898,-368.5 \" stroke=\"#000000\"/>\n",
       "<text fill=\"#000000\" font-family=\"Times,serif\" font-size=\"14.00\" text-anchor=\"middle\" x=\"225.4243\" y=\"-353.3\">input:</text>\n",
       "<polyline fill=\"none\" points=\"197.5898,-346.5 253.2588,-346.5 \" stroke=\"#000000\"/>\n",
       "<text fill=\"#000000\" font-family=\"Times,serif\" font-size=\"14.00\" text-anchor=\"middle\" x=\"225.4243\" y=\"-331.3\">output:</text>\n",
       "<polyline fill=\"none\" points=\"253.2588,-324.5 253.2588,-368.5 \" stroke=\"#000000\"/>\n",
       "<text fill=\"#000000\" font-family=\"Times,serif\" font-size=\"14.00\" text-anchor=\"middle\" x=\"291.583\" y=\"-353.3\">(None, 10)</text>\n",
       "<polyline fill=\"none\" points=\"253.2588,-346.5 329.9072,-346.5 \" stroke=\"#000000\"/>\n",
       "<text fill=\"#000000\" font-family=\"Times,serif\" font-size=\"14.00\" text-anchor=\"middle\" x=\"291.583\" y=\"-331.3\">(None, 10)</text>\n",
       "</g>\n",
       "<!-- 4788812320 -->\n",
       "<g class=\"node\" id=\"node2\">\n",
       "<title>4788812320</title>\n",
       "<polygon fill=\"none\" points=\"2.7344,-243.5 2.7344,-287.5 327.1934,-287.5 327.1934,-243.5 2.7344,-243.5\" stroke=\"#000000\"/>\n",
       "<text fill=\"#000000\" font-family=\"Times,serif\" font-size=\"14.00\" text-anchor=\"middle\" x=\"84.8052\" y=\"-261.3\">embedding_4: Embedding</text>\n",
       "<polyline fill=\"none\" points=\"166.876,-243.5 166.876,-287.5 \" stroke=\"#000000\"/>\n",
       "<text fill=\"#000000\" font-family=\"Times,serif\" font-size=\"14.00\" text-anchor=\"middle\" x=\"194.7104\" y=\"-272.3\">input:</text>\n",
       "<polyline fill=\"none\" points=\"166.876,-265.5 222.5449,-265.5 \" stroke=\"#000000\"/>\n",
       "<text fill=\"#000000\" font-family=\"Times,serif\" font-size=\"14.00\" text-anchor=\"middle\" x=\"194.7104\" y=\"-250.3\">output:</text>\n",
       "<polyline fill=\"none\" points=\"222.5449,-243.5 222.5449,-287.5 \" stroke=\"#000000\"/>\n",
       "<text fill=\"#000000\" font-family=\"Times,serif\" font-size=\"14.00\" text-anchor=\"middle\" x=\"274.8691\" y=\"-272.3\">(None, 10)</text>\n",
       "<polyline fill=\"none\" points=\"222.5449,-265.5 327.1934,-265.5 \" stroke=\"#000000\"/>\n",
       "<text fill=\"#000000\" font-family=\"Times,serif\" font-size=\"14.00\" text-anchor=\"middle\" x=\"274.8691\" y=\"-250.3\">(None, 10, 100)</text>\n",
       "</g>\n",
       "<!-- 4788811256&#45;&gt;4788812320 -->\n",
       "<g class=\"edge\" id=\"edge1\">\n",
       "<title>4788811256-&gt;4788812320</title>\n",
       "<path d=\"M164.9639,-324.3664C164.9639,-316.1516 164.9639,-306.6579 164.9639,-297.7252\" fill=\"none\" stroke=\"#000000\"/>\n",
       "<polygon fill=\"#000000\" points=\"168.464,-297.6068 164.9639,-287.6068 161.464,-297.6069 168.464,-297.6068\" stroke=\"#000000\"/>\n",
       "</g>\n",
       "<!-- 4788811536 -->\n",
       "<g class=\"node\" id=\"node3\">\n",
       "<title>4788811536</title>\n",
       "<polygon fill=\"none\" points=\"0,-162.5 0,-206.5 329.9277,-206.5 329.9277,-162.5 0,-162.5\" stroke=\"#000000\"/>\n",
       "<text fill=\"#000000\" font-family=\"Times,serif\" font-size=\"14.00\" text-anchor=\"middle\" x=\"84.8052\" y=\"-180.3\">simple_rnn_5: SimpleRNN</text>\n",
       "<polyline fill=\"none\" points=\"169.6104,-162.5 169.6104,-206.5 \" stroke=\"#000000\"/>\n",
       "<text fill=\"#000000\" font-family=\"Times,serif\" font-size=\"14.00\" text-anchor=\"middle\" x=\"197.4448\" y=\"-191.3\">input:</text>\n",
       "<polyline fill=\"none\" points=\"169.6104,-184.5 225.2793,-184.5 \" stroke=\"#000000\"/>\n",
       "<text fill=\"#000000\" font-family=\"Times,serif\" font-size=\"14.00\" text-anchor=\"middle\" x=\"197.4448\" y=\"-169.3\">output:</text>\n",
       "<polyline fill=\"none\" points=\"225.2793,-162.5 225.2793,-206.5 \" stroke=\"#000000\"/>\n",
       "<text fill=\"#000000\" font-family=\"Times,serif\" font-size=\"14.00\" text-anchor=\"middle\" x=\"277.6035\" y=\"-191.3\">(None, 10, 100)</text>\n",
       "<polyline fill=\"none\" points=\"225.2793,-184.5 329.9277,-184.5 \" stroke=\"#000000\"/>\n",
       "<text fill=\"#000000\" font-family=\"Times,serif\" font-size=\"14.00\" text-anchor=\"middle\" x=\"277.6035\" y=\"-169.3\">(None, 20)</text>\n",
       "</g>\n",
       "<!-- 4788812320&#45;&gt;4788811536 -->\n",
       "<g class=\"edge\" id=\"edge2\">\n",
       "<title>4788812320-&gt;4788811536</title>\n",
       "<path d=\"M164.9639,-243.3664C164.9639,-235.1516 164.9639,-225.6579 164.9639,-216.7252\" fill=\"none\" stroke=\"#000000\"/>\n",
       "<polygon fill=\"#000000\" points=\"168.464,-216.6068 164.9639,-206.6068 161.464,-216.6069 168.464,-216.6068\" stroke=\"#000000\"/>\n",
       "</g>\n",
       "<!-- 4774579280 -->\n",
       "<g class=\"node\" id=\"node4\">\n",
       "<title>4774579280</title>\n",
       "<polygon fill=\"none\" points=\"46.6792,-81.5 46.6792,-125.5 283.2485,-125.5 283.2485,-81.5 46.6792,-81.5\" stroke=\"#000000\"/>\n",
       "<text fill=\"#000000\" font-family=\"Times,serif\" font-size=\"14.00\" text-anchor=\"middle\" x=\"98.8052\" y=\"-99.3\">dense_7: Dense</text>\n",
       "<polyline fill=\"none\" points=\"150.9312,-81.5 150.9312,-125.5 \" stroke=\"#000000\"/>\n",
       "<text fill=\"#000000\" font-family=\"Times,serif\" font-size=\"14.00\" text-anchor=\"middle\" x=\"178.7656\" y=\"-110.3\">input:</text>\n",
       "<polyline fill=\"none\" points=\"150.9312,-103.5 206.6001,-103.5 \" stroke=\"#000000\"/>\n",
       "<text fill=\"#000000\" font-family=\"Times,serif\" font-size=\"14.00\" text-anchor=\"middle\" x=\"178.7656\" y=\"-88.3\">output:</text>\n",
       "<polyline fill=\"none\" points=\"206.6001,-81.5 206.6001,-125.5 \" stroke=\"#000000\"/>\n",
       "<text fill=\"#000000\" font-family=\"Times,serif\" font-size=\"14.00\" text-anchor=\"middle\" x=\"244.9243\" y=\"-110.3\">(None, 20)</text>\n",
       "<polyline fill=\"none\" points=\"206.6001,-103.5 283.2485,-103.5 \" stroke=\"#000000\"/>\n",
       "<text fill=\"#000000\" font-family=\"Times,serif\" font-size=\"14.00\" text-anchor=\"middle\" x=\"244.9243\" y=\"-88.3\">(None, 46)</text>\n",
       "</g>\n",
       "<!-- 4788811536&#45;&gt;4774579280 -->\n",
       "<g class=\"edge\" id=\"edge3\">\n",
       "<title>4788811536-&gt;4774579280</title>\n",
       "<path d=\"M164.9639,-162.3664C164.9639,-154.1516 164.9639,-144.6579 164.9639,-135.7252\" fill=\"none\" stroke=\"#000000\"/>\n",
       "<polygon fill=\"#000000\" points=\"168.464,-135.6068 164.9639,-125.6068 161.464,-135.6069 168.464,-135.6068\" stroke=\"#000000\"/>\n",
       "</g>\n",
       "<!-- 4774576648 -->\n",
       "<g class=\"node\" id=\"node5\">\n",
       "<title>4774576648</title>\n",
       "<polygon fill=\"none\" points=\"23.3447,-.5 23.3447,-44.5 306.583,-44.5 306.583,-.5 23.3447,-.5\" stroke=\"#000000\"/>\n",
       "<text fill=\"#000000\" font-family=\"Times,serif\" font-size=\"14.00\" text-anchor=\"middle\" x=\"98.8052\" y=\"-18.3\">activation_7: Activation</text>\n",
       "<polyline fill=\"none\" points=\"174.2656,-.5 174.2656,-44.5 \" stroke=\"#000000\"/>\n",
       "<text fill=\"#000000\" font-family=\"Times,serif\" font-size=\"14.00\" text-anchor=\"middle\" x=\"202.1001\" y=\"-29.3\">input:</text>\n",
       "<polyline fill=\"none\" points=\"174.2656,-22.5 229.9346,-22.5 \" stroke=\"#000000\"/>\n",
       "<text fill=\"#000000\" font-family=\"Times,serif\" font-size=\"14.00\" text-anchor=\"middle\" x=\"202.1001\" y=\"-7.3\">output:</text>\n",
       "<polyline fill=\"none\" points=\"229.9346,-.5 229.9346,-44.5 \" stroke=\"#000000\"/>\n",
       "<text fill=\"#000000\" font-family=\"Times,serif\" font-size=\"14.00\" text-anchor=\"middle\" x=\"268.2588\" y=\"-29.3\">(None, 46)</text>\n",
       "<polyline fill=\"none\" points=\"229.9346,-22.5 306.583,-22.5 \" stroke=\"#000000\"/>\n",
       "<text fill=\"#000000\" font-family=\"Times,serif\" font-size=\"14.00\" text-anchor=\"middle\" x=\"268.2588\" y=\"-7.3\">(None, 46)</text>\n",
       "</g>\n",
       "<!-- 4774579280&#45;&gt;4774576648 -->\n",
       "<g class=\"edge\" id=\"edge4\">\n",
       "<title>4774579280-&gt;4774576648</title>\n",
       "<path d=\"M164.9639,-81.3664C164.9639,-73.1516 164.9639,-63.6579 164.9639,-54.7252\" fill=\"none\" stroke=\"#000000\"/>\n",
       "<polygon fill=\"#000000\" points=\"168.464,-54.6068 164.9639,-44.6068 161.464,-54.6069 168.464,-54.6068\" stroke=\"#000000\"/>\n",
       "</g>\n",
       "</g>\n",
       "</svg>"
      ],
      "text/plain": [
       "<IPython.core.display.SVG object>"
      ]
     },
     "execution_count": 20,
     "metadata": {},
     "output_type": "execute_result"
    }
   ],
   "source": [
    "# Create the model\n",
    "model = Sequential()\n",
    "\n",
    "# This is the most basic kind of RNN!  We're using 20 units, \n",
    "# which somewhat reflects our \"memory\" of past events in a sequence\n",
    "model.add(Embedding(input_dim=max_features, output_dim=100, embeddings_initializer=\"glorot_uniform\", input_length=maxlen))\n",
    "# This is the most basic kind of RNN!  We're using 20 units, \n",
    "model.add(SimpleRNN(20, return_sequences=False))\n",
    "model.add(Dense(46))  # number of classes\n",
    "model.add(Activation('softmax'))\n",
    "\n",
    "model.compile(loss='sparse_categorical_crossentropy',\n",
    "              optimizer='adadelta',\n",
    "              metrics=['accuracy'])\n",
    "SVG(model_to_dot(model, show_shapes=True).create(prog='dot', format='svg'))"
   ]
  },
  {
   "cell_type": "code",
   "execution_count": 15,
   "metadata": {},
   "outputs": [
    {
     "name": "stdout",
     "output_type": "stream",
     "text": [
      "Train on 8982 samples, validate on 2246 samples\n",
      "Epoch 1/20\n",
      "8982/8982 [==============================] - 2s - loss: 1.5753 - acc: 0.5950 - val_loss: 2.1755 - val_acc: 0.4448\n",
      "Epoch 2/20\n",
      "8982/8982 [==============================] - 2s - loss: 1.5533 - acc: 0.6006 - val_loss: 2.1883 - val_acc: 0.4466\n",
      "Epoch 3/20\n",
      "8982/8982 [==============================] - 2s - loss: 1.5340 - acc: 0.6074 - val_loss: 2.2049 - val_acc: 0.4448\n",
      "Epoch 4/20\n",
      "8982/8982 [==============================] - 1s - loss: 1.5109 - acc: 0.6145 - val_loss: 2.2210 - val_acc: 0.4457\n",
      "Epoch 5/20\n",
      "8982/8982 [==============================] - ETA: 0s - loss: 1.4878 - acc: 0.624 - 1s - loss: 1.4913 - acc: 0.6226 - val_loss: 2.2382 - val_acc: 0.4452\n",
      "Epoch 6/20\n",
      "8982/8982 [==============================] - 1s - loss: 1.4703 - acc: 0.6318 - val_loss: 2.2546 - val_acc: 0.4448\n",
      "Epoch 7/20\n",
      "8982/8982 [==============================] - 1s - loss: 1.4498 - acc: 0.6383 - val_loss: 2.2795 - val_acc: 0.4421\n",
      "Epoch 8/20\n",
      "8982/8982 [==============================] - 1s - loss: 1.4293 - acc: 0.6440 - val_loss: 2.2943 - val_acc: 0.4564\n",
      "Epoch 9/20\n",
      "8982/8982 [==============================] - 2s - loss: 1.4094 - acc: 0.6522 - val_loss: 2.3178 - val_acc: 0.4439\n",
      "Epoch 10/20\n",
      "8982/8982 [==============================] - 1s - loss: 1.3908 - acc: 0.6530 - val_loss: 2.3168 - val_acc: 0.4470\n",
      "Epoch 11/20\n",
      "8982/8982 [==============================] - 1s - loss: 1.3720 - acc: 0.6592 - val_loss: 2.3343 - val_acc: 0.4452\n",
      "Epoch 12/20\n",
      "8982/8982 [==============================] - 1s - loss: 1.3535 - acc: 0.6667 - val_loss: 2.3627 - val_acc: 0.4399\n",
      "Epoch 13/20\n",
      "8982/8982 [==============================] - 2s - loss: 1.3347 - acc: 0.6720 - val_loss: 2.3802 - val_acc: 0.4399\n",
      "Epoch 14/20\n",
      "8982/8982 [==============================] - 1s - loss: 1.3171 - acc: 0.6765 - val_loss: 2.3975 - val_acc: 0.4390\n",
      "Epoch 15/20\n",
      "8982/8982 [==============================] - 1s - loss: 1.3018 - acc: 0.6796 - val_loss: 2.4187 - val_acc: 0.4421\n",
      "Epoch 16/20\n",
      "8982/8982 [==============================] - 1s - loss: 1.2848 - acc: 0.6868 - val_loss: 2.4485 - val_acc: 0.4359\n",
      "Epoch 17/20\n",
      "8982/8982 [==============================] - 1s - loss: 1.2664 - acc: 0.6908 - val_loss: 2.4659 - val_acc: 0.4372\n",
      "Epoch 18/20\n",
      "8982/8982 [==============================] - 1s - loss: 1.2512 - acc: 0.6956 - val_loss: 2.4798 - val_acc: 0.4435\n",
      "Epoch 19/20\n",
      "8982/8982 [==============================] - 1s - loss: 1.2358 - acc: 0.7011 - val_loss: 2.4935 - val_acc: 0.4390\n",
      "Epoch 20/20\n",
      "8982/8982 [==============================] - 1s - loss: 1.2226 - acc: 0.7026 - val_loss: 2.5031 - val_acc: 0.4399\n"
     ]
    },
    {
     "data": {
      "text/plain": [
       "<keras.callbacks.History at 0x117339630>"
      ]
     },
     "execution_count": 15,
     "metadata": {},
     "output_type": "execute_result"
    }
   ],
   "source": [
    "# refresh localhost: 9000\n",
    "cb=keras.callbacks.RemoteMonitor(root='http://localhost:9000')\n",
    "\n",
    "model.fit(X_train,y_train,epochs=20,\n",
    "         validation_data=(X_test,y_test),callbacks=[cb])"
   ]
  },
  {
   "cell_type": "markdown",
   "metadata": {},
   "source": [
    "####  What do you notice about the training results ?\n",
    "\n",
    "Let's improve ! "
   ]
  },
  {
   "cell_type": "markdown",
   "metadata": {},
   "source": [
    "### LSTM  - Long Short Term Memory\n",
    "\n",
    "<img src='imgs/lstm_3_anno.png'/>\n",
    "<img src='imgs/lstm_eqn.png'/>\n",
    "\n",
    "[credits: Colah's Blog](http://colah.github.io/posts/2015-08-Understanding-LSTMs/)"
   ]
  },
  {
   "cell_type": "markdown",
   "metadata": {},
   "source": [
    "#### Ex 3: Last time with Reuters newswire via LSTM"
   ]
  },
  {
   "cell_type": "markdown",
   "metadata": {},
   "source": [
    "### Code Along!\n",
    "\n",
    "1) Run the following LSTM model.     \n",
    "- We see a moderate improvement from our RNN model.  How can we improve this further? \n",
    "\n",
    "Hints: \n",
    "* Adjust # of memory units\n",
    "* Compare & contrast different optimizers\n",
    "* Shit-tab to read LSTM & Embedding DocStrings.  Experiment with other arguments!"
   ]
  },
  {
   "cell_type": "code",
   "execution_count": 21,
   "metadata": {},
   "outputs": [
    {
     "data": {
      "image/svg+xml": [
       "<svg height=\"377pt\" viewBox=\"0.00 0.00 337.89 377.00\" width=\"338pt\" xmlns=\"http://www.w3.org/2000/svg\" xmlns:xlink=\"http://www.w3.org/1999/xlink\">\n",
       "<g class=\"graph\" id=\"graph0\" transform=\"scale(1 1) rotate(0) translate(4 373)\">\n",
       "<title>G</title>\n",
       "<polygon fill=\"#ffffff\" points=\"-4,4 -4,-373 333.8867,-373 333.8867,4 -4,4\" stroke=\"transparent\"/>\n",
       "<!-- 4786770048 -->\n",
       "<g class=\"node\" id=\"node1\">\n",
       "<title>4786770048</title>\n",
       "<polygon fill=\"none\" points=\"0,-324.5 0,-368.5 329.8867,-368.5 329.8867,-324.5 0,-324.5\" stroke=\"#000000\"/>\n",
       "<text fill=\"#000000\" font-family=\"Times,serif\" font-size=\"14.00\" text-anchor=\"middle\" x=\"98.7847\" y=\"-342.3\">embedding_5_input: InputLayer</text>\n",
       "<polyline fill=\"none\" points=\"197.5693,-324.5 197.5693,-368.5 \" stroke=\"#000000\"/>\n",
       "<text fill=\"#000000\" font-family=\"Times,serif\" font-size=\"14.00\" text-anchor=\"middle\" x=\"225.4038\" y=\"-353.3\">input:</text>\n",
       "<polyline fill=\"none\" points=\"197.5693,-346.5 253.2383,-346.5 \" stroke=\"#000000\"/>\n",
       "<text fill=\"#000000\" font-family=\"Times,serif\" font-size=\"14.00\" text-anchor=\"middle\" x=\"225.4038\" y=\"-331.3\">output:</text>\n",
       "<polyline fill=\"none\" points=\"253.2383,-324.5 253.2383,-368.5 \" stroke=\"#000000\"/>\n",
       "<text fill=\"#000000\" font-family=\"Times,serif\" font-size=\"14.00\" text-anchor=\"middle\" x=\"291.5625\" y=\"-353.3\">(None, 10)</text>\n",
       "<polyline fill=\"none\" points=\"253.2383,-346.5 329.8867,-346.5 \" stroke=\"#000000\"/>\n",
       "<text fill=\"#000000\" font-family=\"Times,serif\" font-size=\"14.00\" text-anchor=\"middle\" x=\"291.5625\" y=\"-331.3\">(None, 10)</text>\n",
       "</g>\n",
       "<!-- 4786770440 -->\n",
       "<g class=\"node\" id=\"node2\">\n",
       "<title>4786770440</title>\n",
       "<polygon fill=\"none\" points=\"2.7139,-243.5 2.7139,-287.5 327.1729,-287.5 327.1729,-243.5 2.7139,-243.5\" stroke=\"#000000\"/>\n",
       "<text fill=\"#000000\" font-family=\"Times,serif\" font-size=\"14.00\" text-anchor=\"middle\" x=\"84.7847\" y=\"-261.3\">embedding_5: Embedding</text>\n",
       "<polyline fill=\"none\" points=\"166.8555,-243.5 166.8555,-287.5 \" stroke=\"#000000\"/>\n",
       "<text fill=\"#000000\" font-family=\"Times,serif\" font-size=\"14.00\" text-anchor=\"middle\" x=\"194.6899\" y=\"-272.3\">input:</text>\n",
       "<polyline fill=\"none\" points=\"166.8555,-265.5 222.5244,-265.5 \" stroke=\"#000000\"/>\n",
       "<text fill=\"#000000\" font-family=\"Times,serif\" font-size=\"14.00\" text-anchor=\"middle\" x=\"194.6899\" y=\"-250.3\">output:</text>\n",
       "<polyline fill=\"none\" points=\"222.5244,-243.5 222.5244,-287.5 \" stroke=\"#000000\"/>\n",
       "<text fill=\"#000000\" font-family=\"Times,serif\" font-size=\"14.00\" text-anchor=\"middle\" x=\"274.8486\" y=\"-272.3\">(None, 10)</text>\n",
       "<polyline fill=\"none\" points=\"222.5244,-265.5 327.1729,-265.5 \" stroke=\"#000000\"/>\n",
       "<text fill=\"#000000\" font-family=\"Times,serif\" font-size=\"14.00\" text-anchor=\"middle\" x=\"274.8486\" y=\"-250.3\">(None, 10, 100)</text>\n",
       "</g>\n",
       "<!-- 4786770048&#45;&gt;4786770440 -->\n",
       "<g class=\"edge\" id=\"edge1\">\n",
       "<title>4786770048-&gt;4786770440</title>\n",
       "<path d=\"M164.9434,-324.3664C164.9434,-316.1516 164.9434,-306.6579 164.9434,-297.7252\" fill=\"none\" stroke=\"#000000\"/>\n",
       "<polygon fill=\"#000000\" points=\"168.4435,-297.6068 164.9434,-287.6068 161.4435,-297.6069 168.4435,-297.6068\" stroke=\"#000000\"/>\n",
       "</g>\n",
       "<!-- 4786769992 -->\n",
       "<g class=\"node\" id=\"node3\">\n",
       "<title>4786769992</title>\n",
       "<polygon fill=\"none\" points=\"35.3623,-162.5 35.3623,-206.5 294.5244,-206.5 294.5244,-162.5 35.3623,-162.5\" stroke=\"#000000\"/>\n",
       "<text fill=\"#000000\" font-family=\"Times,serif\" font-size=\"14.00\" text-anchor=\"middle\" x=\"84.7847\" y=\"-180.3\">lstm_3: LSTM</text>\n",
       "<polyline fill=\"none\" points=\"134.207,-162.5 134.207,-206.5 \" stroke=\"#000000\"/>\n",
       "<text fill=\"#000000\" font-family=\"Times,serif\" font-size=\"14.00\" text-anchor=\"middle\" x=\"162.0415\" y=\"-191.3\">input:</text>\n",
       "<polyline fill=\"none\" points=\"134.207,-184.5 189.876,-184.5 \" stroke=\"#000000\"/>\n",
       "<text fill=\"#000000\" font-family=\"Times,serif\" font-size=\"14.00\" text-anchor=\"middle\" x=\"162.0415\" y=\"-169.3\">output:</text>\n",
       "<polyline fill=\"none\" points=\"189.876,-162.5 189.876,-206.5 \" stroke=\"#000000\"/>\n",
       "<text fill=\"#000000\" font-family=\"Times,serif\" font-size=\"14.00\" text-anchor=\"middle\" x=\"242.2002\" y=\"-191.3\">(None, 10, 100)</text>\n",
       "<polyline fill=\"none\" points=\"189.876,-184.5 294.5244,-184.5 \" stroke=\"#000000\"/>\n",
       "<text fill=\"#000000\" font-family=\"Times,serif\" font-size=\"14.00\" text-anchor=\"middle\" x=\"242.2002\" y=\"-169.3\">(None, 20)</text>\n",
       "</g>\n",
       "<!-- 4786770440&#45;&gt;4786769992 -->\n",
       "<g class=\"edge\" id=\"edge2\">\n",
       "<title>4786770440-&gt;4786769992</title>\n",
       "<path d=\"M164.9434,-243.3664C164.9434,-235.1516 164.9434,-225.6579 164.9434,-216.7252\" fill=\"none\" stroke=\"#000000\"/>\n",
       "<polygon fill=\"#000000\" points=\"168.4435,-216.6068 164.9434,-206.6068 161.4435,-216.6069 168.4435,-216.6068\" stroke=\"#000000\"/>\n",
       "</g>\n",
       "<!-- 4699196776 -->\n",
       "<g class=\"node\" id=\"node4\">\n",
       "<title>4699196776</title>\n",
       "<polygon fill=\"none\" points=\"46.6587,-81.5 46.6587,-125.5 283.228,-125.5 283.228,-81.5 46.6587,-81.5\" stroke=\"#000000\"/>\n",
       "<text fill=\"#000000\" font-family=\"Times,serif\" font-size=\"14.00\" text-anchor=\"middle\" x=\"98.7847\" y=\"-99.3\">dense_8: Dense</text>\n",
       "<polyline fill=\"none\" points=\"150.9106,-81.5 150.9106,-125.5 \" stroke=\"#000000\"/>\n",
       "<text fill=\"#000000\" font-family=\"Times,serif\" font-size=\"14.00\" text-anchor=\"middle\" x=\"178.7451\" y=\"-110.3\">input:</text>\n",
       "<polyline fill=\"none\" points=\"150.9106,-103.5 206.5796,-103.5 \" stroke=\"#000000\"/>\n",
       "<text fill=\"#000000\" font-family=\"Times,serif\" font-size=\"14.00\" text-anchor=\"middle\" x=\"178.7451\" y=\"-88.3\">output:</text>\n",
       "<polyline fill=\"none\" points=\"206.5796,-81.5 206.5796,-125.5 \" stroke=\"#000000\"/>\n",
       "<text fill=\"#000000\" font-family=\"Times,serif\" font-size=\"14.00\" text-anchor=\"middle\" x=\"244.9038\" y=\"-110.3\">(None, 20)</text>\n",
       "<polyline fill=\"none\" points=\"206.5796,-103.5 283.228,-103.5 \" stroke=\"#000000\"/>\n",
       "<text fill=\"#000000\" font-family=\"Times,serif\" font-size=\"14.00\" text-anchor=\"middle\" x=\"244.9038\" y=\"-88.3\">(None, 46)</text>\n",
       "</g>\n",
       "<!-- 4786769992&#45;&gt;4699196776 -->\n",
       "<g class=\"edge\" id=\"edge3\">\n",
       "<title>4786769992-&gt;4699196776</title>\n",
       "<path d=\"M164.9434,-162.3664C164.9434,-154.1516 164.9434,-144.6579 164.9434,-135.7252\" fill=\"none\" stroke=\"#000000\"/>\n",
       "<polygon fill=\"#000000\" points=\"168.4435,-135.6068 164.9434,-125.6068 161.4435,-135.6069 168.4435,-135.6068\" stroke=\"#000000\"/>\n",
       "</g>\n",
       "<!-- 4788579016 -->\n",
       "<g class=\"node\" id=\"node5\">\n",
       "<title>4788579016</title>\n",
       "<polygon fill=\"none\" points=\"23.3242,-.5 23.3242,-44.5 306.5625,-44.5 306.5625,-.5 23.3242,-.5\" stroke=\"#000000\"/>\n",
       "<text fill=\"#000000\" font-family=\"Times,serif\" font-size=\"14.00\" text-anchor=\"middle\" x=\"98.7847\" y=\"-18.3\">activation_8: Activation</text>\n",
       "<polyline fill=\"none\" points=\"174.2451,-.5 174.2451,-44.5 \" stroke=\"#000000\"/>\n",
       "<text fill=\"#000000\" font-family=\"Times,serif\" font-size=\"14.00\" text-anchor=\"middle\" x=\"202.0796\" y=\"-29.3\">input:</text>\n",
       "<polyline fill=\"none\" points=\"174.2451,-22.5 229.9141,-22.5 \" stroke=\"#000000\"/>\n",
       "<text fill=\"#000000\" font-family=\"Times,serif\" font-size=\"14.00\" text-anchor=\"middle\" x=\"202.0796\" y=\"-7.3\">output:</text>\n",
       "<polyline fill=\"none\" points=\"229.9141,-.5 229.9141,-44.5 \" stroke=\"#000000\"/>\n",
       "<text fill=\"#000000\" font-family=\"Times,serif\" font-size=\"14.00\" text-anchor=\"middle\" x=\"268.2383\" y=\"-29.3\">(None, 46)</text>\n",
       "<polyline fill=\"none\" points=\"229.9141,-22.5 306.5625,-22.5 \" stroke=\"#000000\"/>\n",
       "<text fill=\"#000000\" font-family=\"Times,serif\" font-size=\"14.00\" text-anchor=\"middle\" x=\"268.2383\" y=\"-7.3\">(None, 46)</text>\n",
       "</g>\n",
       "<!-- 4699196776&#45;&gt;4788579016 -->\n",
       "<g class=\"edge\" id=\"edge4\">\n",
       "<title>4699196776-&gt;4788579016</title>\n",
       "<path d=\"M164.9434,-81.3664C164.9434,-73.1516 164.9434,-63.6579 164.9434,-54.7252\" fill=\"none\" stroke=\"#000000\"/>\n",
       "<polygon fill=\"#000000\" points=\"168.4435,-54.6068 164.9434,-44.6068 161.4435,-54.6069 168.4435,-54.6068\" stroke=\"#000000\"/>\n",
       "</g>\n",
       "</g>\n",
       "</svg>"
      ],
      "text/plain": [
       "<IPython.core.display.SVG object>"
      ]
     },
     "execution_count": 21,
     "metadata": {},
     "output_type": "execute_result"
    }
   ],
   "source": [
    "# Create the model\n",
    "model = Sequential()\n",
    "\n",
    "model.add(Embedding(input_dim=max_features, output_dim=100, embeddings_initializer=\"glorot_uniform\", input_length=maxlen))\n",
    "\n",
    "model.add(LSTM(20, return_sequences=False)) # again 20 'memory' units\n",
    "model.add(Dense(46))  # number of classes\n",
    "model.add(Activation('softmax'))\n",
    "\n",
    "sgd = SGD(lr=0.1, decay=1e-6, momentum=0.9, nesterov=True)\n",
    "model.compile(loss='sparse_categorical_crossentropy',\n",
    "              optimizer=sgd,\n",
    "              metrics=['accuracy'])\n",
    "SVG(model_to_dot(model, show_shapes=True).create(prog='dot', format='svg'))"
   ]
  },
  {
   "cell_type": "code",
   "execution_count": 19,
   "metadata": {},
   "outputs": [
    {
     "name": "stdout",
     "output_type": "stream",
     "text": [
      "Train on 8982 samples, validate on 2246 samples\n",
      "Epoch 1/20\n",
      "8982/8982 [==============================] - 3s - loss: 2.6219 - acc: 0.3484 - val_loss: 2.1871 - val_acc: 0.4127\n",
      "Epoch 2/20\n",
      "8982/8982 [==============================] - 3s - loss: 2.1069 - acc: 0.4417 - val_loss: 2.0609 - val_acc: 0.4622\n",
      "Epoch 3/20\n",
      "8982/8982 [==============================] - 3s - loss: 2.0167 - acc: 0.4601 - val_loss: 2.0286 - val_acc: 0.4577\n",
      "Epoch 4/20\n",
      "8982/8982 [==============================] - 3s - loss: 1.9621 - acc: 0.4704 - val_loss: 2.0080 - val_acc: 0.4724\n",
      "Epoch 5/20\n",
      "8982/8982 [==============================] - 3s - loss: 1.9174 - acc: 0.4823 - val_loss: 1.9837 - val_acc: 0.4751\n",
      "Epoch 6/20\n",
      "8982/8982 [==============================] - 3s - loss: 1.8853 - acc: 0.4947 - val_loss: 1.9623 - val_acc: 0.4840\n",
      "Epoch 7/20\n",
      "8982/8982 [==============================] - 3s - loss: 1.8582 - acc: 0.5020 - val_loss: 1.9505 - val_acc: 0.4844\n",
      "Epoch 8/20\n",
      "8982/8982 [==============================] - 3s - loss: 1.8375 - acc: 0.5092 - val_loss: 1.9557 - val_acc: 0.4858\n",
      "Epoch 9/20\n",
      "8982/8982 [==============================] - 3s - loss: 1.8180 - acc: 0.5173 - val_loss: 1.9423 - val_acc: 0.4942\n",
      "Epoch 10/20\n",
      "8982/8982 [==============================] - 2s - loss: 1.8007 - acc: 0.5204 - val_loss: 1.9416 - val_acc: 0.4996\n",
      "Epoch 11/20\n",
      "8982/8982 [==============================] - 3s - loss: 1.7844 - acc: 0.5271 - val_loss: 1.9346 - val_acc: 0.5013\n",
      "Epoch 12/20\n",
      "8982/8982 [==============================] - 3s - loss: 1.7669 - acc: 0.5340 - val_loss: 1.9401 - val_acc: 0.5004\n",
      "Epoch 13/20\n",
      "8982/8982 [==============================] - 3s - loss: 1.7512 - acc: 0.5405 - val_loss: 1.9362 - val_acc: 0.5049\n",
      "Epoch 14/20\n",
      "8982/8982 [==============================] - 3s - loss: 1.7344 - acc: 0.5503 - val_loss: 1.9449 - val_acc: 0.5000\n",
      "Epoch 15/20\n",
      "8982/8982 [==============================] - 3s - loss: 1.7178 - acc: 0.5532 - val_loss: 1.9381 - val_acc: 0.4996\n",
      "Epoch 16/20\n",
      "8982/8982 [==============================] - 3s - loss: 1.6986 - acc: 0.5588 - val_loss: 1.9337 - val_acc: 0.5067\n",
      "Epoch 17/20\n",
      "8982/8982 [==============================] - 3s - loss: 1.6778 - acc: 0.5672 - val_loss: 1.9379 - val_acc: 0.5093\n",
      "Epoch 18/20\n",
      "8982/8982 [==============================] - 3s - loss: 1.6603 - acc: 0.5710 - val_loss: 1.9287 - val_acc: 0.5040\n",
      "Epoch 19/20\n",
      "8982/8982 [==============================] - 3s - loss: 1.6398 - acc: 0.5755 - val_loss: 1.9332 - val_acc: 0.5089\n",
      "Epoch 20/20\n",
      "8982/8982 [==============================] - 3s - loss: 1.6208 - acc: 0.5814 - val_loss: 1.9321 - val_acc: 0.5040\n"
     ]
    },
    {
     "data": {
      "text/plain": [
       "<keras.callbacks.History at 0x11d6f7a90>"
      ]
     },
     "execution_count": 19,
     "metadata": {},
     "output_type": "execute_result"
    }
   ],
   "source": [
    "# refresh localhost: 9000\n",
    "cb=keras.callbacks.RemoteMonitor(root='http://localhost:9000')\n",
    "\n",
    "model.fit(X_train,y_train,epochs=20,\n",
    "         validation_data=(X_test,y_test),callbacks=[cb])"
   ]
  },
  {
   "cell_type": "markdown",
   "metadata": {},
   "source": [
    "### Text Generation with LSTM "
   ]
  },
  {
   "cell_type": "code",
   "execution_count": null,
   "metadata": {
    "slideshow": {
     "slide_type": "skip"
    }
   },
   "outputs": [],
   "source": [
    "file='data/alllines.txt'  # read in shakespeare from our local file\n",
    "text = open(file).read().lower()\n",
    "print('corpus length:', len(text))\n",
    "print ('\\n')\n",
    "print (text[:108])\n",
    "\n",
    "# let's just take the first 500K\n",
    "text=text[:500000]\n",
    "\n",
    "chars = sorted(list(set(text)))\n",
    "print('total chars:', len(chars))\n",
    "char_indices = dict((c, i) for i, c in enumerate(chars))\n",
    "indices_char = dict((i, c) for i, c in enumerate(chars))\n",
    "\n",
    "# cut the text in semi-redundant sequences of maxlen characters\n",
    "maxlen = 40\n",
    "step = 3\n",
    "sentences = []\n",
    "next_chars = []\n",
    "for i in range(0, len(text) - maxlen, step):\n",
    "    sentences.append(text[i: i + maxlen])\n",
    "    next_chars.append(text[i + maxlen])\n",
    "print('nb sequences:', len(sentences))\n",
    "\n",
    "print('Vectorization...')\n",
    "X = np.zeros((len(sentences), maxlen, len(chars)), dtype=np.bool)\n",
    "y = np.zeros((len(sentences), len(chars)), dtype=np.bool)\n",
    "for i, sentence in enumerate(sentences):\n",
    "    for t, char in enumerate(sentence):\n",
    "        X[i, t, char_indices[char]] = 1\n",
    "    y[i, char_indices[next_chars[i]]] = 1\n",
    "\n",
    "\n",
    "# build the model: a single LSTM\n",
    "print('Build model...')\n",
    "model = Sequential()\n",
    "model.add(LSTM(128, input_shape=(maxlen, len(chars))))\n",
    "model.add(Dense(len(chars)))\n",
    "model.add(Activation('softmax'))\n",
    "\n",
    "optimizer = RMSprop(lr=0.01)\n",
    "model.compile(loss='categorical_crossentropy', optimizer=optimizer)\n",
    "\n",
    "\n",
    "def sample(preds, temperature=1.0):\n",
    "    # helper function to sample an index from a probability array\n",
    "    preds = np.asarray(preds).astype('float64')\n",
    "    preds = np.log(preds) / temperature\n",
    "    exp_preds = np.exp(preds)\n",
    "    preds = exp_preds / np.sum(exp_preds)\n",
    "    probas = np.random.multinomial(1, preds, 1)\n",
    "    return np.argmax(probas)\n",
    "\n",
    "# train the model, output generated text after each iteration\n",
    "losses=[]\n",
    "for iteration in range(1, 60):\n",
    "    print()\n",
    "    print('-' * 50)\n",
    "    print('Iteration', iteration)\n",
    "    model.fit(X, y, batch_size=128, nb_epoch=1)\n",
    "\n",
    "    start_index = np.random.randint(0, len(text) - maxlen - 1)\n",
    "\n",
    "    for diversity in [0.2, 0.5, 1.0, 1.2]:\n",
    "        print()\n",
    "        print('----- diversity:', diversity)\n",
    "\n",
    "        generated = ''\n",
    "        sentence = text[start_index: start_index + maxlen]\n",
    "        generated += sentence\n",
    "        print('----- Generating with seed: \"' + sentence + '\"')\n",
    "        sys.stdout.write(generated)\n",
    "\n",
    "        for i in range(400):\n",
    "            x = np.zeros((1, maxlen, len(chars)))\n",
    "            for t, char in enumerate(sentence):\n",
    "                x[0, t, char_indices[char]] = 1.\n",
    "\n",
    "            preds = model.predict(x, verbose=0)[0]\n",
    "            next_index = sample(preds, diversity)\n",
    "            next_char = indices_char[next_index]\n",
    "\n",
    "            generated += next_char\n",
    "            sentence = sentence[1:] + next_char\n",
    "\n",
    "            sys.stdout.write(next_char)\n",
    "            sys.stdout.flush()\n",
    "        print()"
   ]
  },
  {
   "cell_type": "code",
   "execution_count": null,
   "metadata": {
    "collapsed": true
   },
   "outputs": [],
   "source": []
  }
 ],
 "metadata": {
  "celltoolbar": "Raw Cell Format",
  "kernelspec": {
   "display_name": "Python 3",
   "language": "python",
   "name": "python3"
  },
  "language_info": {
   "codemirror_mode": {
    "name": "ipython",
    "version": 3
   },
   "file_extension": ".py",
   "mimetype": "text/x-python",
   "name": "python",
   "nbconvert_exporter": "python",
   "pygments_lexer": "ipython3",
   "version": "3.5.3"
  }
 },
 "nbformat": 4,
 "nbformat_minor": 2
}
